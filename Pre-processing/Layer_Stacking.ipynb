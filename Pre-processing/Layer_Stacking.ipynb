{
 "cells": [
  {
   "cell_type": "code",
   "execution_count": 5,
   "metadata": {},
   "outputs": [],
   "source": [
    "from osgeo import gdal\n",
    "from osgeo import osr"
   ]
  },
  {
   "cell_type": "code",
   "execution_count": 6,
   "metadata": {},
   "outputs": [],
   "source": [
    "dir_path = r\"D:\\Education\\IIRS\\II Year\\Project Thesis\\UAV Images\\Salem Ortho\\SalemSBI\\3_dsm_ortho\""
   ]
  },
  {
   "cell_type": "code",
   "execution_count": 7,
   "metadata": {},
   "outputs": [],
   "source": [
    "mosaic_file = dir_path + r\"\\2_mosaic\\SalemSBI_transparent_mosaic_group1.tif\"\n",
    "dsm_file = dir_path + r\"\\1_dsm\\SalemSBI_dsm.tif\"\n",
    "out_file = dir_path + r\"\\out.tif\""
   ]
  },
  {
   "cell_type": "code",
   "execution_count": 4,
   "metadata": {},
   "outputs": [],
   "source": [
    "driver = gdal.GetDriverByName('GTiff')"
   ]
  },
  {
   "cell_type": "code",
   "execution_count": 11,
   "metadata": {},
   "outputs": [
    {
     "name": "stdout",
     "output_type": "stream",
     "text": [
      "1\n",
      "2\n",
      "3\n",
      "4\n"
     ]
    },
    {
     "ename": "AttributeError",
     "evalue": "'Dataset' object has no attribute 'GetSpatialRef'",
     "output_type": "error",
     "traceback": [
      "\u001b[1;31m---------------------------------------------------------------------------\u001b[0m",
      "\u001b[1;31mAttributeError\u001b[0m                            Traceback (most recent call last)",
      "\u001b[1;32m<ipython-input-11-6f1f64464bde>\u001b[0m in \u001b[0;36m<module>\u001b[1;34m\u001b[0m\n\u001b[0;32m     18\u001b[0m         \u001b[0mprint\u001b[0m\u001b[1;33m(\u001b[0m\u001b[0mi\u001b[0m\u001b[1;33m)\u001b[0m\u001b[1;33m\u001b[0m\u001b[1;33m\u001b[0m\u001b[0m\n\u001b[0;32m     19\u001b[0m \u001b[1;33m\u001b[0m\u001b[0m\n\u001b[1;32m---> 20\u001b[1;33m \u001b[0mout_ds\u001b[0m\u001b[1;33m.\u001b[0m\u001b[0mSetProjection\u001b[0m\u001b[1;33m(\u001b[0m\u001b[0mdsm_ds\u001b[0m\u001b[1;33m.\u001b[0m\u001b[0mGetSpatialRef\u001b[0m\u001b[1;33m(\u001b[0m\u001b[1;33m)\u001b[0m\u001b[1;33m.\u001b[0m\u001b[0mExportToWkt\u001b[0m\u001b[1;33m(\u001b[0m\u001b[1;33m)\u001b[0m\u001b[1;33m)\u001b[0m\u001b[1;33m\u001b[0m\u001b[1;33m\u001b[0m\u001b[0m\n\u001b[0m\u001b[0;32m     21\u001b[0m \u001b[0mout_ds\u001b[0m \u001b[1;33m=\u001b[0m \u001b[1;32mNone\u001b[0m\u001b[1;33m\u001b[0m\u001b[1;33m\u001b[0m\u001b[0m\n",
      "\u001b[1;31mAttributeError\u001b[0m: 'Dataset' object has no attribute 'GetSpatialRef'"
     ]
    }
   ],
   "source": [
    "dsm_ds = gdal.Open(dsm_file)\n",
    "out_ds = driver.Create(out_file, dsm_ds.RasterXSize, dsm_ds.RasterYSize, 4, gdal.GDT_Float32) \n",
    "\n",
    "out_ds.SetGeoTransform(dsm_ds.GetGeoTransform())\n",
    "i = 0\n",
    "for file_name in [dir_path + r\"\\2_mosaic\\SalemSBI_transparent_mosaic_group1.tif\", dir_path + r\"\\1_dsm\\SalemSBI_dsm.tif\"]: #dir_path + r\"\\1_dsm\\SalemSBI_dsm.tif\"\n",
    "    ds = gdal.Open(file_name)\n",
    "    for b in range(0, ds.RasterCount):\n",
    "        if(b>=3):\n",
    "            continue\n",
    "        _bnd = ds.GetRasterBand(b+1)\n",
    "        arr = _bnd.ReadAsArray().astype('float32')\n",
    "        bnd = out_ds.GetRasterBand(i+1)\n",
    "        bnd.WriteArray(arr)\n",
    "#         bnd.SetNoDataValue(_bnd.GetNoDataValue())\n",
    "        bnd.FlushCache()\n",
    "        i = i + 1\n",
    "        print(i)\n",
    "        \n",
    "out_ds.SetProjection(dsm_ds.GetSpatialRef().ExportToWkt())\n",
    "out_ds = None"
   ]
  },
  {
   "cell_type": "code",
   "execution_count": 29,
   "metadata": {},
   "outputs": [],
   "source": [
    "out_ds = gdal.Open(out_file)"
   ]
  },
  {
   "cell_type": "code",
   "execution_count": 18,
   "metadata": {},
   "outputs": [
    {
     "data": {
      "text/plain": [
       "array([[0, 0, 0, ..., 0, 0, 0],\n",
       "       [0, 0, 0, ..., 0, 0, 0],\n",
       "       [0, 0, 0, ..., 0, 0, 0],\n",
       "       ...,\n",
       "       [0, 0, 0, ..., 0, 0, 0],\n",
       "       [0, 0, 0, ..., 0, 0, 0],\n",
       "       [0, 0, 0, ..., 0, 0, 0]], dtype=uint8)"
      ]
     },
     "execution_count": 18,
     "metadata": {},
     "output_type": "execute_result"
    }
   ],
   "source": [
    "out_ds.GetRasterBand(1).ReadAsArray()"
   ]
  },
  {
   "cell_type": "code",
   "execution_count": 20,
   "metadata": {},
   "outputs": [],
   "source": [
    "out_ds = None"
   ]
  },
  {
   "cell_type": "code",
   "execution_count": 21,
   "metadata": {},
   "outputs": [
    {
     "data": {
      "text/plain": [
       "359.0865"
      ]
     },
     "execution_count": 21,
     "metadata": {},
     "output_type": "execute_result"
    }
   ],
   "source": [
    "import numpy as np\n",
    "np.max(dsm_ds.GetRasterBand(1).ReadAsArray().astype('float32'))"
   ]
  }
 ],
 "metadata": {
  "kernelspec": {
   "display_name": "Python 3",
   "language": "python",
   "name": "python3"
  },
  "language_info": {
   "codemirror_mode": {
    "name": "ipython",
    "version": 3
   },
   "file_extension": ".py",
   "mimetype": "text/x-python",
   "name": "python",
   "nbconvert_exporter": "python",
   "pygments_lexer": "ipython3",
   "version": "3.7.10"
  }
 },
 "nbformat": 4,
 "nbformat_minor": 5
}
