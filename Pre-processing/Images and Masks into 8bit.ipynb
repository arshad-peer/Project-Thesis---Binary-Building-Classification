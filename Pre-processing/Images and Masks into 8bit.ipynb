{
 "cells": [
  {
   "cell_type": "code",
   "execution_count": 2,
   "id": "b1cb898b",
   "metadata": {},
   "outputs": [],
   "source": [
    "from osgeo import gdal\n",
    "import rasterio\n",
    "import matplotlib.pyplot as plt\n",
    "import os\n",
    "import numpy as np"
   ]
  },
  {
   "cell_type": "code",
   "execution_count": 3,
   "id": "ba45280a",
   "metadata": {},
   "outputs": [],
   "source": [
    "file_add = \"D:/Education/IIRS/II_Year/Project_Thesis/Data_Preparation/RGBDV_Chips/\""
   ]
  },
  {
   "cell_type": "code",
   "execution_count": 4,
   "id": "d0b5a08a",
   "metadata": {},
   "outputs": [],
   "source": [
    "list_ = []\n",
    "for x in os.listdir(file_add):\n",
    "    if x.endswith(\".tif\"):\n",
    "        list_.append(x)"
   ]
  },
  {
   "cell_type": "code",
   "execution_count": 5,
   "id": "7a63ecc3",
   "metadata": {},
   "outputs": [
    {
     "data": {
      "text/plain": [
       "['rgbdv_1_1.tif',\n",
       " 'rgbdv_1_10.tif',\n",
       " 'rgbdv_1_2.tif',\n",
       " 'rgbdv_1_3.tif',\n",
       " 'rgbdv_1_4.tif',\n",
       " 'rgbdv_1_5.tif',\n",
       " 'rgbdv_1_6.tif',\n",
       " 'rgbdv_1_7.tif',\n",
       " 'rgbdv_1_8.tif',\n",
       " 'rgbdv_1_9.tif']"
      ]
     },
     "execution_count": 5,
     "metadata": {},
     "output_type": "execute_result"
    }
   ],
   "source": [
    "list_"
   ]
  },
  {
   "cell_type": "code",
   "execution_count": 6,
   "id": "de3d2d71",
   "metadata": {},
   "outputs": [],
   "source": [
    "file_list = []\n",
    "for x in os.listdir(file_add):\n",
    "    if x.endswith(\".tif\"):\n",
    "        x= file_add + x\n",
    "        file_list.append(x)"
   ]
  },
  {
   "cell_type": "code",
   "execution_count": 9,
   "id": "ebb84538",
   "metadata": {},
   "outputs": [
    {
     "data": {
      "text/plain": [
       "['D:/Education/IIRS/II_Year/Project_Thesis/Data_Preparation/RGBDV_Chips/rgbdv_1_1.tif',\n",
       " 'D:/Education/IIRS/II_Year/Project_Thesis/Data_Preparation/RGBDV_Chips/rgbdv_1_10.tif',\n",
       " 'D:/Education/IIRS/II_Year/Project_Thesis/Data_Preparation/RGBDV_Chips/rgbdv_1_2.tif',\n",
       " 'D:/Education/IIRS/II_Year/Project_Thesis/Data_Preparation/RGBDV_Chips/rgbdv_1_3.tif',\n",
       " 'D:/Education/IIRS/II_Year/Project_Thesis/Data_Preparation/RGBDV_Chips/rgbdv_1_4.tif',\n",
       " 'D:/Education/IIRS/II_Year/Project_Thesis/Data_Preparation/RGBDV_Chips/rgbdv_1_5.tif',\n",
       " 'D:/Education/IIRS/II_Year/Project_Thesis/Data_Preparation/RGBDV_Chips/rgbdv_1_6.tif',\n",
       " 'D:/Education/IIRS/II_Year/Project_Thesis/Data_Preparation/RGBDV_Chips/rgbdv_1_7.tif',\n",
       " 'D:/Education/IIRS/II_Year/Project_Thesis/Data_Preparation/RGBDV_Chips/rgbdv_1_8.tif',\n",
       " 'D:/Education/IIRS/II_Year/Project_Thesis/Data_Preparation/RGBDV_Chips/rgbdv_1_9.tif']"
      ]
     },
     "execution_count": 9,
     "metadata": {},
     "output_type": "execute_result"
    }
   ],
   "source": [
    "file_list"
   ]
  },
  {
   "cell_type": "code",
   "execution_count": 10,
   "id": "e837660c",
   "metadata": {},
   "outputs": [
    {
     "data": {
      "text/plain": [
       "10"
      ]
     },
     "execution_count": 10,
     "metadata": {},
     "output_type": "execute_result"
    }
   ],
   "source": [
    "len(file_list)"
   ]
  },
  {
   "cell_type": "code",
   "execution_count": 20,
   "id": "223ff650",
   "metadata": {},
   "outputs": [],
   "source": [
    "i=0\n",
    "while(i<len(file_list)):\n",
    "    path = file_list[i]\n",
    "    img = gdal.Open(path).ReadAsArray()\n",
    "    img /= img.max()/255\n",
    "    \n",
    "    A = rasterio.open(path)\n",
    "\n",
    "    profile = A.profile\n",
    "    profile.update(\n",
    "            dtype=rasterio.int16,\n",
    "                count=5,\n",
    "            compress='lzw',\n",
    "        nodata=0\n",
    "    )\n",
    "    op_name = os.path.basename(path)\n",
    "    with rasterio.open(\"D:/Education/IIRS/II_Year/Project_Thesis/Data_Preparation/RGBDV_8/\" + op_name + '.tif', 'w', **profile) as dst :\n",
    "        dst.write(img.astype(rasterio.int16))\n",
    "    i=i+1"
   ]
  },
  {
   "cell_type": "code",
   "execution_count": 16,
   "id": "d9255d2e",
   "metadata": {},
   "outputs": [
    {
     "ename": "AttributeError",
     "evalue": "type object 'object' has no attribute '__getattr__'",
     "output_type": "error",
     "traceback": [
      "\u001b[1;31m---------------------------------------------------------------------------\u001b[0m",
      "\u001b[1;31mAttributeError\u001b[0m                            Traceback (most recent call last)",
      "\u001b[1;32m~\\AppData\\Local\\Temp\\ipykernel_33696\\3913321416.py\u001b[0m in \u001b[0;36m<module>\u001b[1;34m\u001b[0m\n\u001b[0;32m     27\u001b[0m \u001b[0mgtif\u001b[0m \u001b[1;33m=\u001b[0m \u001b[0mlist\u001b[0m\u001b[1;33m(\u001b[0m\u001b[0mfilter\u001b[0m\u001b[1;33m(\u001b[0m\u001b[1;32mlambda\u001b[0m \u001b[0mx\u001b[0m\u001b[1;33m:\u001b[0m \u001b[0mx\u001b[0m\u001b[1;33m.\u001b[0m\u001b[0mendswith\u001b[0m\u001b[1;33m(\u001b[0m\u001b[1;34m'tif'\u001b[0m\u001b[1;33m)\u001b[0m\u001b[1;33m,\u001b[0m \u001b[0mfiles\u001b[0m\u001b[1;33m)\u001b[0m\u001b[1;33m)\u001b[0m\u001b[1;33m\u001b[0m\u001b[1;33m\u001b[0m\u001b[0m\n\u001b[0;32m     28\u001b[0m \u001b[1;32mfor\u001b[0m \u001b[0mgi\u001b[0m \u001b[1;32min\u001b[0m \u001b[0mgtif\u001b[0m\u001b[1;33m:\u001b[0m\u001b[1;33m\u001b[0m\u001b[1;33m\u001b[0m\u001b[0m\n\u001b[1;32m---> 29\u001b[1;33m     \u001b[0mdata_type\u001b[0m\u001b[1;33m(\u001b[0m\u001b[0minpf\u001b[0m\u001b[1;33m,\u001b[0m \u001b[0mgi\u001b[0m\u001b[1;33m)\u001b[0m\u001b[1;33m\u001b[0m\u001b[1;33m\u001b[0m\u001b[0m\n\u001b[0m",
      "\u001b[1;32m~\\AppData\\Local\\Temp\\ipykernel_33696\\3913321416.py\u001b[0m in \u001b[0;36mdata_type\u001b[1;34m(inpf, inp_name)\u001b[0m\n\u001b[0;32m     10\u001b[0m     \u001b[0mb5\u001b[0m \u001b[1;33m=\u001b[0m \u001b[0mimg\u001b[0m\u001b[1;33m.\u001b[0m\u001b[0mGetRasterBand\u001b[0m\u001b[1;33m(\u001b[0m\u001b[1;36m5\u001b[0m\u001b[1;33m)\u001b[0m\u001b[1;33m.\u001b[0m\u001b[0mReadAsArray\u001b[0m\u001b[1;33m(\u001b[0m\u001b[1;33m)\u001b[0m\u001b[1;33m\u001b[0m\u001b[1;33m\u001b[0m\u001b[0m\n\u001b[0;32m     11\u001b[0m \u001b[1;33m\u001b[0m\u001b[0m\n\u001b[1;32m---> 12\u001b[1;33m     \u001b[0mimg\u001b[0m \u001b[1;33m/=\u001b[0m \u001b[0mimg\u001b[0m\u001b[1;33m.\u001b[0m\u001b[0mmax\u001b[0m\u001b[1;33m(\u001b[0m\u001b[1;33m)\u001b[0m\u001b[1;33m/\u001b[0m\u001b[1;36m255\u001b[0m\u001b[1;33m\u001b[0m\u001b[1;33m\u001b[0m\u001b[0m\n\u001b[0m\u001b[0;32m     13\u001b[0m \u001b[1;33m\u001b[0m\u001b[0m\n\u001b[0;32m     14\u001b[0m     \u001b[1;32mwith\u001b[0m \u001b[0mrasterio\u001b[0m\u001b[1;33m.\u001b[0m\u001b[0mopen\u001b[0m\u001b[1;33m(\u001b[0m\u001b[0mpath\u001b[0m\u001b[1;33m)\u001b[0m \u001b[1;32mas\u001b[0m \u001b[0mr\u001b[0m\u001b[1;33m:\u001b[0m\u001b[1;33m\u001b[0m\u001b[1;33m\u001b[0m\u001b[0m\n",
      "\u001b[1;32mC:\\Anaconda3\\envs\\tensorflow_env\\lib\\site-packages\\osgeo\\gdal.py\u001b[0m in \u001b[0;36m<lambda>\u001b[1;34m(self, name)\u001b[0m\n\u001b[0;32m   2043\u001b[0m     \u001b[1;32mfor\u001b[0m \u001b[0m_s\u001b[0m \u001b[1;32min\u001b[0m \u001b[1;33m[\u001b[0m\u001b[0mMajorObject\u001b[0m\u001b[1;33m]\u001b[0m\u001b[1;33m:\u001b[0m\u001b[1;33m\u001b[0m\u001b[1;33m\u001b[0m\u001b[0m\n\u001b[0;32m   2044\u001b[0m         \u001b[0m__swig_getmethods__\u001b[0m\u001b[1;33m.\u001b[0m\u001b[0mupdate\u001b[0m\u001b[1;33m(\u001b[0m\u001b[0mgetattr\u001b[0m\u001b[1;33m(\u001b[0m\u001b[0m_s\u001b[0m\u001b[1;33m,\u001b[0m \u001b[1;34m'__swig_getmethods__'\u001b[0m\u001b[1;33m,\u001b[0m \u001b[1;33m{\u001b[0m\u001b[1;33m}\u001b[0m\u001b[1;33m)\u001b[0m\u001b[1;33m)\u001b[0m\u001b[1;33m\u001b[0m\u001b[1;33m\u001b[0m\u001b[0m\n\u001b[1;32m-> 2045\u001b[1;33m     \u001b[0m__getattr__\u001b[0m \u001b[1;33m=\u001b[0m \u001b[1;32mlambda\u001b[0m \u001b[0mself\u001b[0m\u001b[1;33m,\u001b[0m \u001b[0mname\u001b[0m\u001b[1;33m:\u001b[0m \u001b[0m_swig_getattr\u001b[0m\u001b[1;33m(\u001b[0m\u001b[0mself\u001b[0m\u001b[1;33m,\u001b[0m \u001b[0mDataset\u001b[0m\u001b[1;33m,\u001b[0m \u001b[0mname\u001b[0m\u001b[1;33m)\u001b[0m\u001b[1;33m\u001b[0m\u001b[1;33m\u001b[0m\u001b[0m\n\u001b[0m\u001b[0;32m   2046\u001b[0m \u001b[1;33m\u001b[0m\u001b[0m\n\u001b[0;32m   2047\u001b[0m     \u001b[1;32mdef\u001b[0m \u001b[0m__init__\u001b[0m\u001b[1;33m(\u001b[0m\u001b[0mself\u001b[0m\u001b[1;33m,\u001b[0m \u001b[1;33m*\u001b[0m\u001b[0margs\u001b[0m\u001b[1;33m,\u001b[0m \u001b[1;33m**\u001b[0m\u001b[0mkwargs\u001b[0m\u001b[1;33m)\u001b[0m\u001b[1;33m:\u001b[0m\u001b[1;33m\u001b[0m\u001b[1;33m\u001b[0m\u001b[0m\n",
      "\u001b[1;32mC:\\Anaconda3\\envs\\tensorflow_env\\lib\\site-packages\\osgeo\\gdal.py\u001b[0m in \u001b[0;36m_swig_getattr\u001b[1;34m(self, class_type, name)\u001b[0m\n\u001b[0;32m     72\u001b[0m \u001b[1;33m\u001b[0m\u001b[0m\n\u001b[0;32m     73\u001b[0m \u001b[1;32mdef\u001b[0m \u001b[0m_swig_getattr\u001b[0m\u001b[1;33m(\u001b[0m\u001b[0mself\u001b[0m\u001b[1;33m,\u001b[0m \u001b[0mclass_type\u001b[0m\u001b[1;33m,\u001b[0m \u001b[0mname\u001b[0m\u001b[1;33m)\u001b[0m\u001b[1;33m:\u001b[0m\u001b[1;33m\u001b[0m\u001b[1;33m\u001b[0m\u001b[0m\n\u001b[1;32m---> 74\u001b[1;33m     \u001b[1;32mreturn\u001b[0m \u001b[0m_swig_getattr_nondynamic\u001b[0m\u001b[1;33m(\u001b[0m\u001b[0mself\u001b[0m\u001b[1;33m,\u001b[0m \u001b[0mclass_type\u001b[0m\u001b[1;33m,\u001b[0m \u001b[0mname\u001b[0m\u001b[1;33m,\u001b[0m \u001b[1;36m0\u001b[0m\u001b[1;33m)\u001b[0m\u001b[1;33m\u001b[0m\u001b[1;33m\u001b[0m\u001b[0m\n\u001b[0m\u001b[0;32m     75\u001b[0m \u001b[1;33m\u001b[0m\u001b[0m\n\u001b[0;32m     76\u001b[0m \u001b[1;33m\u001b[0m\u001b[0m\n",
      "\u001b[1;32mC:\\Anaconda3\\envs\\tensorflow_env\\lib\\site-packages\\osgeo\\gdal.py\u001b[0m in \u001b[0;36m_swig_getattr_nondynamic\u001b[1;34m(self, class_type, name, static)\u001b[0m\n\u001b[0;32m     67\u001b[0m         \u001b[1;32mreturn\u001b[0m \u001b[0mmethod\u001b[0m\u001b[1;33m(\u001b[0m\u001b[0mself\u001b[0m\u001b[1;33m)\u001b[0m\u001b[1;33m\u001b[0m\u001b[1;33m\u001b[0m\u001b[0m\n\u001b[0;32m     68\u001b[0m     \u001b[1;32mif\u001b[0m \u001b[1;33m(\u001b[0m\u001b[1;32mnot\u001b[0m \u001b[0mstatic\u001b[0m\u001b[1;33m)\u001b[0m\u001b[1;33m:\u001b[0m\u001b[1;33m\u001b[0m\u001b[1;33m\u001b[0m\u001b[0m\n\u001b[1;32m---> 69\u001b[1;33m         \u001b[1;32mreturn\u001b[0m \u001b[0mobject\u001b[0m\u001b[1;33m.\u001b[0m\u001b[0m__getattr__\u001b[0m\u001b[1;33m(\u001b[0m\u001b[0mself\u001b[0m\u001b[1;33m,\u001b[0m \u001b[0mname\u001b[0m\u001b[1;33m)\u001b[0m\u001b[1;33m\u001b[0m\u001b[1;33m\u001b[0m\u001b[0m\n\u001b[0m\u001b[0;32m     70\u001b[0m     \u001b[1;32melse\u001b[0m\u001b[1;33m:\u001b[0m\u001b[1;33m\u001b[0m\u001b[1;33m\u001b[0m\u001b[0m\n\u001b[0;32m     71\u001b[0m         \u001b[1;32mraise\u001b[0m \u001b[0mAttributeError\u001b[0m\u001b[1;33m(\u001b[0m\u001b[0mname\u001b[0m\u001b[1;33m)\u001b[0m\u001b[1;33m\u001b[0m\u001b[1;33m\u001b[0m\u001b[0m\n",
      "\u001b[1;31mAttributeError\u001b[0m: type object 'object' has no attribute '__getattr__'"
     ]
    }
   ],
   "source": [
    "# def data_type(inpf, inp_name):\n",
    "\n",
    "#     path = os.path.join(inpf, inp_name)\n",
    "#     img = gdal.Open(path)\n",
    "    \n",
    "#     b1 = img.GetRasterBand(1).ReadAsArray()\n",
    "#     b2 = img.GetRasterBand(2).ReadAsArray()\n",
    "#     b3 = img.GetRasterBand(3).ReadAsArray()\n",
    "#     b4 = img.GetRasterBand(4).ReadAsArray()\n",
    "#     b5 = img.GetRasterBand(5).ReadAsArray()\n",
    "    \n",
    "#     img /= img.max()/255\n",
    "    \n",
    "#     with rasterio.open(path) as r:\n",
    "#         profile = r.profile\n",
    "\n",
    "#     profile.update(dtype = rasterio.uint8, count = 5, compress = 'lzw', nodata = 0)\n",
    "    \n",
    "#     with rasterio.open(\"I:/01_Arshad/Project Thesis/Data Preparation/Test Data/Images_8/\" + str(i) + '.tif', 'w', **profile) as dst :\n",
    "#         dst.write(img.astype(rasterio.uint8))\n",
    "        \n",
    "#     return 'done'\n",
    "\n",
    "\n",
    "# inpf = \"I:/01_Arshad/Project Thesis/Data Preparation/Test Data/Images\"\n",
    "# files = os.listdir(inpf)\n",
    "# gtif = list(filter(lambda x: x.endswith('tif'), files))\n",
    "# for gi in gtif:\n",
    "#     data_type(inpf, gi)\n"
   ]
  },
  {
   "cell_type": "code",
   "execution_count": 13,
   "id": "37d5c3e4",
   "metadata": {},
   "outputs": [],
   "source": [
    "# i=0\n",
    "# while(i<len(file_list)):\n",
    "#     path = file_list[i]\n",
    "#     img = gdal.Open(path)\n",
    "#     img /= img.max()/255\n",
    "    \n",
    "#     A = rasterio.open(path)\n",
    "\n",
    "#     profile = A.profile\n",
    "#     profile.update(\n",
    "#             dtype=rasterio.uint8,\n",
    "#                 count=5,\n",
    "#             compress='lzw',\n",
    "#         nodata=0\n",
    "#     )\n",
    "#     with rasterio.open(\"I:/01_Arshad/Project Thesis/Data Preparation/Test Data/Images_8/\"+str(i)+'.tif', 'w', **profile) as dst :\n",
    "#         dst.write(img.astype(rasterio.uint8))\n",
    "#     i=i+1"
   ]
  },
  {
   "cell_type": "code",
   "execution_count": null,
   "id": "3117b018",
   "metadata": {},
   "outputs": [],
   "source": []
  }
 ],
 "metadata": {
  "kernelspec": {
   "display_name": "Python 3",
   "language": "python",
   "name": "python3"
  },
  "language_info": {
   "codemirror_mode": {
    "name": "ipython",
    "version": 3
   },
   "file_extension": ".py",
   "mimetype": "text/x-python",
   "name": "python",
   "nbconvert_exporter": "python",
   "pygments_lexer": "ipython3",
   "version": "3.6.13"
  }
 },
 "nbformat": 4,
 "nbformat_minor": 5
}
